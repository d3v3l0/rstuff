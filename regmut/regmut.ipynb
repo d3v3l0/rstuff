{
 "cells": [
  {
   "cell_type": "code",
   "execution_count": 3,
   "metadata": {
    "collapsed": false
   },
   "outputs": [
    {
     "name": "stdout",
     "output_type": "stream",
     "text": [
      "\n",
      "The downloaded binary packages are in\n",
      "\tC:\\Users\\ravip\\AppData\\Local\\Temp\\Rtmpegtypq\\downloaded_packages\n"
     ]
    },
    {
     "name": "stderr",
     "output_type": "stream",
     "text": [
      "Bioconductor version 3.0 (BiocInstaller 1.16.5), ?biocLite for help\n",
      "A new version of Bioconductor is available after installing the most recent\n",
      "  version of R; see http://bioconductor.org/install\n",
      "BioC_mirror: http://bioconductor.org\n",
      "Using Bioconductor version 3.0 (BiocInstaller 1.16.5), R version 3.1.3.\n",
      "Installing package(s) 'IRanges'\n",
      "also installing the dependencies 'BiocGenerics', 'S4Vectors'\n",
      "\n"
     ]
    },
    {
     "name": "stdout",
     "output_type": "stream",
     "text": [
      "package 'BiocGenerics' successfully unpacked and MD5 sums checked\n",
      "package 'S4Vectors' successfully unpacked and MD5 sums checked\n",
      "package 'IRanges' successfully unpacked and MD5 sums checked\n",
      "\n",
      "The downloaded binary packages are in\n",
      "\tC:\\Users\\ravip\\AppData\\Local\\Temp\\Rtmpegtypq\\downloaded_packages\n"
     ]
    },
    {
     "name": "stderr",
     "output_type": "stream",
     "text": [
      "Old packages: 'base64enc', 'boot', 'class', 'cluster', 'codetools', 'evaluate',\n",
      "  'foreign', 'jsonlite', 'KernSmooth', 'lattice', 'MASS', 'Matrix', 'mgcv',\n",
      "  'nlme', 'nnet', 'rpart', 'spatial', 'stringr', 'survival', 'uuid'\n",
      "BioC_mirror: http://bioconductor.org\n",
      "Using Bioconductor version 3.0 (BiocInstaller 1.16.5), R version 3.1.3.\n",
      "Installing package(s) 'GenomicRanges'\n",
      "also installing the dependencies 'GenomeInfoDb', 'XVector'\n",
      "\n"
     ]
    },
    {
     "name": "stdout",
     "output_type": "stream",
     "text": [
      "package 'GenomeInfoDb' successfully unpacked and MD5 sums checked\n",
      "package 'XVector' successfully unpacked and MD5 sums checked\n",
      "package 'GenomicRanges' successfully unpacked and MD5 sums checked\n",
      "\n",
      "The downloaded binary packages are in\n",
      "\tC:\\Users\\ravip\\AppData\\Local\\Temp\\Rtmpegtypq\\downloaded_packages\n"
     ]
    },
    {
     "name": "stderr",
     "output_type": "stream",
     "text": [
      "Old packages: 'base64enc', 'boot', 'class', 'cluster', 'codetools', 'evaluate',\n",
      "  'foreign', 'jsonlite', 'KernSmooth', 'lattice', 'MASS', 'Matrix', 'mgcv',\n",
      "  'nlme', 'nnet', 'rpart', 'spatial', 'stringr', 'survival', 'uuid'\n",
      "BioC_mirror: http://bioconductor.org\n",
      "Using Bioconductor version 3.0 (BiocInstaller 1.16.5), R version 3.1.3.\n",
      "Installing package(s) 'Biostrings'\n",
      "also installing the dependency 'zlibbioc'\n",
      "\n"
     ]
    },
    {
     "name": "stdout",
     "output_type": "stream",
     "text": [
      "package 'zlibbioc' successfully unpacked and MD5 sums checked\n",
      "package 'Biostrings' successfully unpacked and MD5 sums checked\n",
      "\n",
      "The downloaded binary packages are in\n",
      "\tC:\\Users\\ravip\\AppData\\Local\\Temp\\Rtmpegtypq\\downloaded_packages\n"
     ]
    },
    {
     "name": "stderr",
     "output_type": "stream",
     "text": [
      "Old packages: 'base64enc', 'boot', 'class', 'cluster', 'codetools', 'evaluate',\n",
      "  'foreign', 'jsonlite', 'KernSmooth', 'lattice', 'MASS', 'Matrix', 'mgcv',\n",
      "  'nlme', 'nnet', 'rpart', 'spatial', 'stringr', 'survival', 'uuid'\n",
      "BioC_mirror: http://bioconductor.org\n",
      "Using Bioconductor version 3.0 (BiocInstaller 1.16.5), R version 3.1.3.\n",
      "Installing package(s) 'AnnotationHub'\n",
      "also installing the dependencies 'colorspace', 'dichromat', 'munsell', 'labeling', 'httpuv', 'xtable', 'htmltools', 'gtable', 'scales', 'proto', 'Rcpp', 'RJSONIO', 'GO.db', 'graph', 'RBGL', 'GSEABase', 'genefilter', 'annotate', 'mime', 'curl', 'R6', 'Biobase', 'DBI', 'RSQLite', 'interactiveDisplayBase', 'shiny', 'RColorBrewer', 'ggplot2', 'reshape2', 'plyr', 'gridSVG', 'XML', 'Category', 'rjson', 'httr', 'AnnotationDbi', 'interactiveDisplay'\n",
      "\n"
     ]
    },
    {
     "name": "stdout",
     "output_type": "stream",
     "text": [
      "package 'colorspace' successfully unpacked and MD5 sums checked\n",
      "package 'dichromat' successfully unpacked and MD5 sums checked\n",
      "package 'munsell' successfully unpacked and MD5 sums checked\n",
      "package 'labeling' successfully unpacked and MD5 sums checked\n",
      "package 'httpuv' successfully unpacked and MD5 sums checked\n",
      "package 'xtable' successfully unpacked and MD5 sums checked\n",
      "package 'htmltools' successfully unpacked and MD5 sums checked\n",
      "package 'gtable' successfully unpacked and MD5 sums checked\n",
      "package 'scales' successfully unpacked and MD5 sums checked\n",
      "package 'proto' successfully unpacked and MD5 sums checked\n",
      "package 'Rcpp' successfully unpacked and MD5 sums checked\n",
      "package 'RJSONIO' successfully unpacked and MD5 sums checked\n",
      "package 'graph' successfully unpacked and MD5 sums checked\n",
      "package 'RBGL' successfully unpacked and MD5 sums checked\n",
      "package 'GSEABase' successfully unpacked and MD5 sums checked\n",
      "package 'genefilter' successfully unpacked and MD5 sums checked\n",
      "package 'annotate' successfully unpacked and MD5 sums checked\n",
      "package 'mime' successfully unpacked and MD5 sums checked\n",
      "package 'curl' successfully unpacked and MD5 sums checked\n",
      "package 'R6' successfully unpacked and MD5 sums checked\n",
      "package 'Biobase' successfully unpacked and MD5 sums checked\n",
      "package 'DBI' successfully unpacked and MD5 sums checked\n",
      "package 'RSQLite' successfully unpacked and MD5 sums checked\n",
      "package 'interactiveDisplayBase' successfully unpacked and MD5 sums checked\n",
      "package 'shiny' successfully unpacked and MD5 sums checked\n",
      "package 'RColorBrewer' successfully unpacked and MD5 sums checked\n",
      "package 'ggplot2' successfully unpacked and MD5 sums checked\n",
      "package 'reshape2' successfully unpacked and MD5 sums checked\n",
      "package 'plyr' successfully unpacked and MD5 sums checked\n",
      "package 'gridSVG' successfully unpacked and MD5 sums checked\n",
      "package 'XML' successfully unpacked and MD5 sums checked\n",
      "package 'Category' successfully unpacked and MD5 sums checked\n",
      "package 'rjson' successfully unpacked and MD5 sums checked\n",
      "package 'httr' successfully unpacked and MD5 sums checked\n",
      "package 'AnnotationDbi' successfully unpacked and MD5 sums checked\n",
      "package 'interactiveDisplay' successfully unpacked and MD5 sums checked\n",
      "package 'AnnotationHub' successfully unpacked and MD5 sums checked\n",
      "\n",
      "The downloaded binary packages are in\n",
      "\tC:\\Users\\ravip\\AppData\\Local\\Temp\\Rtmpegtypq\\downloaded_packages\n"
     ]
    },
    {
     "name": "stderr",
     "output_type": "stream",
     "text": [
      "Updating packages 'base64enc', 'boot', 'class', 'cluster', 'codetools',\n",
      "  'evaluate', 'foreign', 'jsonlite', 'KernSmooth', 'lattice', 'MASS', 'Matrix',\n",
      "  'mgcv', 'nlme', 'nnet', 'rpart', 'spatial', 'stringr', 'survival', 'uuid'\n",
      "also installing the dependencies 'stringi', 'magrittr'\n",
      "\n"
     ]
    },
    {
     "name": "stdout",
     "output_type": "stream",
     "text": [
      "package 'stringi' successfully unpacked and MD5 sums checked\n",
      "package 'magrittr' successfully unpacked and MD5 sums checked\n",
      "package 'base64enc' successfully unpacked and MD5 sums checked\n"
     ]
    },
    {
     "name": "stderr",
     "output_type": "stream",
     "text": [
      "Warning message:\n",
      ": cannot remove prior installation of package 'base64enc'"
     ]
    },
    {
     "name": "stdout",
     "output_type": "stream",
     "text": [
      "package 'boot' successfully unpacked and MD5 sums checked\n",
      "package 'class' successfully unpacked and MD5 sums checked\n",
      "package 'cluster' successfully unpacked and MD5 sums checked\n",
      "package 'codetools' successfully unpacked and MD5 sums checked\n",
      "package 'evaluate' successfully unpacked and MD5 sums checked\n",
      "package 'foreign' successfully unpacked and MD5 sums checked\n",
      "package 'jsonlite' successfully unpacked and MD5 sums checked\n"
     ]
    },
    {
     "name": "stderr",
     "output_type": "stream",
     "text": [
      "Warning message:\n",
      ": cannot remove prior installation of package 'jsonlite'"
     ]
    },
    {
     "name": "stdout",
     "output_type": "stream",
     "text": [
      "package 'KernSmooth' successfully unpacked and MD5 sums checked\n",
      "package 'lattice' successfully unpacked and MD5 sums checked\n",
      "package 'MASS' successfully unpacked and MD5 sums checked\n",
      "package 'Matrix' successfully unpacked and MD5 sums checked\n",
      "package 'mgcv' successfully unpacked and MD5 sums checked\n",
      "package 'nlme' successfully unpacked and MD5 sums checked\n",
      "package 'nnet' successfully unpacked and MD5 sums checked\n",
      "package 'rpart' successfully unpacked and MD5 sums checked\n",
      "package 'spatial' successfully unpacked and MD5 sums checked\n",
      "package 'stringr' successfully unpacked and MD5 sums checked\n",
      "package 'survival' successfully unpacked and MD5 sums checked\n",
      "package 'uuid' successfully unpacked and MD5 sums checked\n"
     ]
    },
    {
     "name": "stderr",
     "output_type": "stream",
     "text": [
      "Warning message:\n",
      ": cannot remove prior installation of package 'uuid'"
     ]
    },
    {
     "name": "stdout",
     "output_type": "stream",
     "text": [
      "\n",
      "The downloaded binary packages are in\n",
      "\tC:\\Users\\ravip\\AppData\\Local\\Temp\\Rtmpegtypq\\downloaded_packages\n"
     ]
    },
    {
     "name": "stderr",
     "output_type": "stream",
     "text": [
      "BioC_mirror: http://bioconductor.org\n",
      "Using Bioconductor version 3.0 (BiocInstaller 1.16.5), R version 3.1.3.\n",
      "Installing package(s) 'biomaRt'\n",
      "also installing the dependencies 'bitops', 'RCurl'\n",
      "\n"
     ]
    },
    {
     "name": "stdout",
     "output_type": "stream",
     "text": [
      "package 'bitops' successfully unpacked and MD5 sums checked\n",
      "package 'RCurl' successfully unpacked and MD5 sums checked\n",
      "package 'biomaRt' successfully unpacked and MD5 sums checked\n",
      "\n",
      "The downloaded binary packages are in\n",
      "\tC:\\Users\\ravip\\AppData\\Local\\Temp\\Rtmpegtypq\\downloaded_packages\n"
     ]
    },
    {
     "name": "stderr",
     "output_type": "stream",
     "text": [
      "BioC_mirror: http://bioconductor.org\n",
      "Using Bioconductor version 3.0 (BiocInstaller 1.16.5), R version 3.1.3.\n",
      "Installing package(s) 'checkmate'\n"
     ]
    },
    {
     "name": "stdout",
     "output_type": "stream",
     "text": [
      "package 'checkmate' successfully unpacked and MD5 sums checked\n",
      "\n",
      "The downloaded binary packages are in\n",
      "\tC:\\Users\\ravip\\AppData\\Local\\Temp\\Rtmpegtypq\\downloaded_packages\n"
     ]
    },
    {
     "name": "stderr",
     "output_type": "stream",
     "text": [
      "BioC_mirror: http://bioconductor.org\n",
      "Using Bioconductor version 3.0 (BiocInstaller 1.16.5), R version 3.1.3.\n",
      "Installing package(s) 'clusterProfiler'\n",
      "also installing the dependencies 'iterators', 'pkgmaker', 'registry', 'rngtools', 'gridBase', 'foreach', 'doParallel', 'NMF', 'irlba', 'qvalue', 'DO.db', 'igraph', 'KEGG.db', 'DOSE', 'GOSemSim'\n",
      "\n"
     ]
    },
    {
     "name": "stdout",
     "output_type": "stream",
     "text": [
      "package 'iterators' successfully unpacked and MD5 sums checked\n",
      "package 'pkgmaker' successfully unpacked and MD5 sums checked\n",
      "package 'registry' successfully unpacked and MD5 sums checked\n",
      "package 'rngtools' successfully unpacked and MD5 sums checked\n",
      "package 'gridBase' successfully unpacked and MD5 sums checked\n",
      "package 'foreach' successfully unpacked and MD5 sums checked\n",
      "package 'doParallel' successfully unpacked and MD5 sums checked\n",
      "package 'NMF' successfully unpacked and MD5 sums checked\n",
      "package 'irlba' successfully unpacked and MD5 sums checked\n",
      "package 'qvalue' successfully unpacked and MD5 sums checked\n",
      "package 'igraph' successfully unpacked and MD5 sums checked\n",
      "package 'DOSE' successfully unpacked and MD5 sums checked\n",
      "package 'GOSemSim' successfully unpacked and MD5 sums checked\n",
      "package 'clusterProfiler' successfully unpacked and MD5 sums checked\n",
      "\n",
      "The downloaded binary packages are in\n",
      "\tC:\\Users\\ravip\\AppData\\Local\\Temp\\Rtmpegtypq\\downloaded_packages\n"
     ]
    },
    {
     "name": "stderr",
     "output_type": "stream",
     "text": [
      "BioC_mirror: http://bioconductor.org\n",
      "Using Bioconductor version 3.0 (BiocInstaller 1.16.5), R version 3.1.3.\n",
      "Installing package(s) 'data.table'\n",
      "also installing the dependency 'chron'\n",
      "\n"
     ]
    },
    {
     "name": "stdout",
     "output_type": "stream",
     "text": [
      "package 'chron' successfully unpacked and MD5 sums checked\n",
      "package 'data.table' successfully unpacked and MD5 sums checked\n",
      "\n",
      "The downloaded binary packages are in\n",
      "\tC:\\Users\\ravip\\AppData\\Local\\Temp\\Rtmpegtypq\\downloaded_packages\n"
     ]
    },
    {
     "name": "stderr",
     "output_type": "stream",
     "text": [
      "BioC_mirror: http://bioconductor.org\n",
      "Using Bioconductor version 3.0 (BiocInstaller 1.16.5), R version 3.1.3.\n",
      "Installing package(s) 'dplyr'\n",
      "also installing the dependencies 'assertthat', 'lazyeval', 'BH'\n",
      "\n"
     ]
    },
    {
     "name": "stdout",
     "output_type": "stream",
     "text": [
      "package 'assertthat' successfully unpacked and MD5 sums checked\n",
      "package 'lazyeval' successfully unpacked and MD5 sums checked\n",
      "package 'BH' successfully unpacked and MD5 sums checked\n",
      "package 'dplyr' successfully unpacked and MD5 sums checked\n",
      "\n",
      "The downloaded binary packages are in\n",
      "\tC:\\Users\\ravip\\AppData\\Local\\Temp\\Rtmpegtypq\\downloaded_packages\n"
     ]
    },
    {
     "name": "stderr",
     "output_type": "stream",
     "text": [
      "BioC_mirror: http://bioconductor.org\n",
      "Using Bioconductor version 3.0 (BiocInstaller 1.16.5), R version 3.1.3.\n",
      "Installing package(s) 'doSNOW'\n",
      "also installing the dependency 'snow'\n",
      "\n"
     ]
    },
    {
     "name": "stdout",
     "output_type": "stream",
     "text": [
      "package 'snow' successfully unpacked and MD5 sums checked\n",
      "package 'doSNOW' successfully unpacked and MD5 sums checked\n",
      "\n",
      "The downloaded binary packages are in\n",
      "\tC:\\Users\\ravip\\AppData\\Local\\Temp\\Rtmpegtypq\\downloaded_packages\n"
     ]
    },
    {
     "name": "stderr",
     "output_type": "stream",
     "text": [
      "BioC_mirror: http://bioconductor.org\n",
      "Using Bioconductor version 3.0 (BiocInstaller 1.16.5), R version 3.1.3.\n",
      "Installing package(s) 'GenomicRanges'\n"
     ]
    },
    {
     "name": "stdout",
     "output_type": "stream",
     "text": [
      "package 'GenomicRanges' successfully unpacked and MD5 sums checked\n",
      "\n",
      "The downloaded binary packages are in\n",
      "\tC:\\Users\\ravip\\AppData\\Local\\Temp\\Rtmpegtypq\\downloaded_packages\n"
     ]
    },
    {
     "name": "stderr",
     "output_type": "stream",
     "text": [
      "BioC_mirror: http://bioconductor.org\n",
      "Using Bioconductor version 3.0 (BiocInstaller 1.16.5), R version 3.1.3.\n",
      "Installing package(s) 'KEGG.db'\n"
     ]
    },
    {
     "name": "stdout",
     "output_type": "stream",
     "text": [
      "\n",
      "The downloaded binary packages are in\n",
      "\tC:\\Users\\ravip\\AppData\\Local\\Temp\\Rtmpegtypq\\downloaded_packages\n"
     ]
    },
    {
     "name": "stderr",
     "output_type": "stream",
     "text": [
      "BioC_mirror: http://bioconductor.org\n",
      "Using Bioconductor version 3.0 (BiocInstaller 1.16.5), R version 3.1.3.\n",
      "Installing package(s) 'lattice'\n"
     ]
    },
    {
     "name": "stdout",
     "output_type": "stream",
     "text": [
      "package 'lattice' successfully unpacked and MD5 sums checked\n",
      "\n",
      "The downloaded binary packages are in\n",
      "\tC:\\Users\\ravip\\AppData\\Local\\Temp\\Rtmpegtypq\\downloaded_packages\n"
     ]
    },
    {
     "name": "stderr",
     "output_type": "stream",
     "text": [
      "BioC_mirror: http://bioconductor.org\n",
      "Using Bioconductor version 3.0 (BiocInstaller 1.16.5), R version 3.1.3.\n",
      "Installing package(s) 'MASS'\n"
     ]
    },
    {
     "name": "stdout",
     "output_type": "stream",
     "text": [
      "package 'MASS' successfully unpacked and MD5 sums checked\n",
      "\n",
      "The downloaded binary packages are in\n",
      "\tC:\\Users\\ravip\\AppData\\Local\\Temp\\Rtmpegtypq\\downloaded_packages\n"
     ]
    },
    {
     "name": "stderr",
     "output_type": "stream",
     "text": [
      "BioC_mirror: http://bioconductor.org\n",
      "Using Bioconductor version 3.0 (BiocInstaller 1.16.5), R version 3.1.3.\n",
      "Installing package(s) 'mgsa'\n",
      "also installing the dependencies 'gtools', 'gdata', 'caTools', 'gplots'\n",
      "\n"
     ]
    },
    {
     "name": "stdout",
     "output_type": "stream",
     "text": [
      "package 'gtools' successfully unpacked and MD5 sums checked\n",
      "package 'gdata' successfully unpacked and MD5 sums checked\n",
      "package 'caTools' successfully unpacked and MD5 sums checked\n",
      "package 'gplots' successfully unpacked and MD5 sums checked\n",
      "package 'mgsa' successfully unpacked and MD5 sums checked\n",
      "\n",
      "The downloaded binary packages are in\n",
      "\tC:\\Users\\ravip\\AppData\\Local\\Temp\\Rtmpegtypq\\downloaded_packages\n"
     ]
    },
    {
     "name": "stderr",
     "output_type": "stream",
     "text": [
      "BioC_mirror: http://bioconductor.org\n",
      "Using Bioconductor version 3.0 (BiocInstaller 1.16.5), R version 3.1.3.\n",
      "Installing package(s) 'plyr'\n"
     ]
    },
    {
     "name": "stdout",
     "output_type": "stream",
     "text": [
      "package 'plyr' successfully unpacked and MD5 sums checked\n",
      "\n",
      "The downloaded binary packages are in\n",
      "\tC:\\Users\\ravip\\AppData\\Local\\Temp\\Rtmpegtypq\\downloaded_packages\n"
     ]
    },
    {
     "name": "stderr",
     "output_type": "stream",
     "text": [
      "BioC_mirror: http://bioconductor.org\n",
      "Using Bioconductor version 3.0 (BiocInstaller 1.16.5), R version 3.1.3.\n",
      "Installing package(s) 'reshape'\n"
     ]
    },
    {
     "name": "stdout",
     "output_type": "stream",
     "text": [
      "package 'reshape' successfully unpacked and MD5 sums checked\n",
      "\n",
      "The downloaded binary packages are in\n",
      "\tC:\\Users\\ravip\\AppData\\Local\\Temp\\Rtmpegtypq\\downloaded_packages\n"
     ]
    },
    {
     "name": "stderr",
     "output_type": "stream",
     "text": [
      "BioC_mirror: http://bioconductor.org\n",
      "Using Bioconductor version 3.0 (BiocInstaller 1.16.5), R version 3.1.3.\n",
      "Installing package(s) 'Rsamtools'\n"
     ]
    },
    {
     "name": "stdout",
     "output_type": "stream",
     "text": [
      "package 'Rsamtools' successfully unpacked and MD5 sums checked\n",
      "\n",
      "The downloaded binary packages are in\n",
      "\tC:\\Users\\ravip\\AppData\\Local\\Temp\\Rtmpegtypq\\downloaded_packages\n"
     ]
    },
    {
     "name": "stderr",
     "output_type": "stream",
     "text": [
      "BioC_mirror: http://bioconductor.org\n",
      "Using Bioconductor version 3.0 (BiocInstaller 1.16.5), R version 3.1.3.\n",
      "Installing package(s) 'rtracklayer'\n",
      "also installing the dependencies 'base64enc', 'brew', 'fail', 'sendmailR', 'BatchJobs', 'BBmisc', 'BiocParallel', 'GenomicAlignments'\n",
      "\n"
     ]
    },
    {
     "name": "stdout",
     "output_type": "stream",
     "text": [
      "package 'base64enc' successfully unpacked and MD5 sums checked\n"
     ]
    },
    {
     "name": "stderr",
     "output_type": "stream",
     "text": [
      "Warning message:\n",
      ": cannot remove prior installation of package 'base64enc'"
     ]
    },
    {
     "name": "stdout",
     "output_type": "stream",
     "text": [
      "package 'brew' successfully unpacked and MD5 sums checked\n",
      "package 'fail' successfully unpacked and MD5 sums checked\n",
      "package 'sendmailR' successfully unpacked and MD5 sums checked\n",
      "package 'BatchJobs' successfully unpacked and MD5 sums checked\n",
      "package 'BBmisc' successfully unpacked and MD5 sums checked\n",
      "package 'BiocParallel' successfully unpacked and MD5 sums checked\n",
      "package 'GenomicAlignments' successfully unpacked and MD5 sums checked\n",
      "package 'rtracklayer' successfully unpacked and MD5 sums checked\n",
      "\n",
      "The downloaded binary packages are in\n",
      "\tC:\\Users\\ravip\\AppData\\Local\\Temp\\Rtmpegtypq\\downloaded_packages\n"
     ]
    },
    {
     "name": "stderr",
     "output_type": "stream",
     "text": [
      "BioC_mirror: http://bioconductor.org\n",
      "Using Bioconductor version 3.0 (BiocInstaller 1.16.5), R version 3.1.3.\n",
      "Installing package(s) 'survival'\n"
     ]
    },
    {
     "name": "stdout",
     "output_type": "stream",
     "text": [
      "package 'survival' successfully unpacked and MD5 sums checked\n",
      "\n",
      "The downloaded binary packages are in\n",
      "\tC:\\Users\\ravip\\AppData\\Local\\Temp\\Rtmpegtypq\\downloaded_packages\n"
     ]
    },
    {
     "name": "stderr",
     "output_type": "stream",
     "text": [
      "BioC_mirror: http://bioconductor.org\n",
      "Using Bioconductor version 3.0 (BiocInstaller 1.16.5), R version 3.1.3.\n",
      "Installing package(s) 'tidyr'\n"
     ]
    },
    {
     "name": "stdout",
     "output_type": "stream",
     "text": [
      "package 'tidyr' successfully unpacked and MD5 sums checked\n",
      "\n",
      "The downloaded binary packages are in\n",
      "\tC:\\Users\\ravip\\AppData\\Local\\Temp\\Rtmpegtypq\\downloaded_packages\n"
     ]
    },
    {
     "name": "stderr",
     "output_type": "stream",
     "text": [
      "BioC_mirror: http://bioconductor.org\n",
      "Using Bioconductor version 3.0 (BiocInstaller 1.16.5), R version 3.1.3.\n",
      "Installing package(s) 'TxDb.Hsapiens.UCSC.hg19.knownGene'\n",
      "also installing the dependency 'GenomicFeatures'\n",
      "\n"
     ]
    },
    {
     "name": "stdout",
     "output_type": "stream",
     "text": [
      "package 'GenomicFeatures' successfully unpacked and MD5 sums checked\n",
      "\n",
      "The downloaded binary packages are in\n",
      "\tC:\\Users\\ravip\\AppData\\Local\\Temp\\Rtmpegtypq\\downloaded_packages\n"
     ]
    },
    {
     "name": "stderr",
     "output_type": "stream",
     "text": [
      "BioC_mirror: http://bioconductor.org\n",
      "Using Bioconductor version 3.0 (BiocInstaller 1.16.5), R version 3.1.3.\n",
      "Installing package(s) 'VariantAnnotation'\n",
      "also installing the dependency 'BSgenome'\n",
      "\n"
     ]
    },
    {
     "name": "stdout",
     "output_type": "stream",
     "text": [
      "package 'BSgenome' successfully unpacked and MD5 sums checked\n",
      "package 'VariantAnnotation' successfully unpacked and MD5 sums checked\n",
      "\n",
      "The downloaded binary packages are in\n",
      "\tC:\\Users\\ravip\\AppData\\Local\\Temp\\Rtmpegtypq\\downloaded_packages\n"
     ]
    },
    {
     "name": "stderr",
     "output_type": "stream",
     "text": [
      "BioC_mirror: http://bioconductor.org\n",
      "Using Bioconductor version 3.0 (BiocInstaller 1.16.5), R version 3.1.3.\n",
      "Installing package(s) 'MotifDb' 'motifStack' 'seqLogo'\n",
      "also installing the dependencies 'rGADEM', 'grImport', 'MotIV', 'ade4'\n",
      "\n"
     ]
    },
    {
     "name": "stdout",
     "output_type": "stream",
     "text": [
      "package 'rGADEM' successfully unpacked and MD5 sums checked\n",
      "package 'grImport' successfully unpacked and MD5 sums checked\n",
      "package 'MotIV' successfully unpacked and MD5 sums checked\n",
      "package 'ade4' successfully unpacked and MD5 sums checked\n",
      "package 'MotifDb' successfully unpacked and MD5 sums checked\n",
      "package 'motifStack' successfully unpacked and MD5 sums checked\n",
      "package 'seqLogo' successfully unpacked and MD5 sums checked\n",
      "\n",
      "The downloaded binary packages are in\n",
      "\tC:\\Users\\ravip\\AppData\\Local\\Temp\\Rtmpegtypq\\downloaded_packages\n"
     ]
    },
    {
     "name": "stderr",
     "output_type": "stream",
     "text": [
      "Loading required package: S4Vectors\n",
      "Loading required package: stats4\n",
      "Loading required package: BiocGenerics\n",
      "Loading required package: parallel\n",
      "\n",
      "Attaching package: 'BiocGenerics'\n",
      "\n",
      "The following objects are masked from 'package:parallel':\n",
      "\n",
      "    clusterApply, clusterApplyLB, clusterCall, clusterEvalQ,\n",
      "    clusterExport, clusterMap, parApply, parCapply, parLapply,\n",
      "    parLapplyLB, parRapply, parSapply, parSapplyLB\n",
      "\n",
      "The following object is masked from 'package:stats':\n",
      "\n",
      "    xtabs\n",
      "\n",
      "The following objects are masked from 'package:base':\n",
      "\n",
      "    anyDuplicated, append, as.data.frame, as.vector, cbind, colnames,\n",
      "    do.call, duplicated, eval, evalq, Filter, Find, get, intersect,\n",
      "    is.unsorted, lapply, Map, mapply, match, mget, order, paste, pmax,\n",
      "    pmax.int, pmin, pmin.int, Position, rank, rbind, Reduce, rep.int,\n",
      "    rownames, sapply, setdiff, sort, table, tapply, union, unique,\n",
      "    unlist, unsplit\n",
      "\n",
      "Loading required package: IRanges\n",
      "Loading required package: DBI\n",
      "Loading required package: AnnotationDbi\n",
      "Loading required package: Biobase\n",
      "Welcome to Bioconductor\n",
      "\n",
      "    Vignettes contain introductory material; view with\n",
      "    'browseVignettes()'. To cite Bioconductor, see\n",
      "    'citation(\"Biobase\")', and for packages 'citation(\"pkgname\")'.\n",
      "\n",
      "Loading required package: GenomeInfoDb\n",
      "\n",
      "Attaching package: 'AnnotationDbi'\n",
      "\n",
      "The following object is masked from 'package:GenomeInfoDb':\n",
      "\n",
      "    species\n",
      "\n",
      "\n",
      "\n",
      "KEGG.db contains mappings based on older data because the original\n",
      "  resource was removed from the the public domain before the most\n",
      "  recent update was produced. This package should now be considered\n",
      "  deprecated and future versions of Bioconductor may not have it\n",
      "  available.  Users who want more current data are encouraged to look\n",
      "  at the KEGGREST or reactome.db packages\n",
      "\n",
      "Loading required package: foreach\n",
      "Loading required package: iterators\n",
      "Loading required package: snow\n",
      "\n",
      "Attaching package: 'snow'\n",
      "\n",
      "The following objects are masked from 'package:BiocGenerics':\n",
      "\n",
      "    clusterApply, clusterApplyLB, clusterCall, clusterEvalQ,\n",
      "    clusterExport, clusterMap, clusterSplit, parApply, parCapply,\n",
      "    parLapply, parRapply, parSapply\n",
      "\n",
      "The following objects are masked from 'package:parallel':\n",
      "\n",
      "    clusterApply, clusterApplyLB, clusterCall, clusterEvalQ,\n",
      "    clusterExport, clusterMap, clusterSplit, makeCluster, parApply,\n",
      "    parCapply, parLapply, parRapply, parSapply, splitIndices,\n",
      "    stopCluster\n",
      "\n",
      "Loading required package: gplots\n",
      "\n",
      "Attaching package: 'gplots'\n",
      "\n",
      "The following object is masked from 'package:IRanges':\n",
      "\n",
      "    space\n",
      "\n",
      "The following object is masked from 'package:stats':\n",
      "\n",
      "    lowess\n",
      "\n",
      "\n",
      "Attaching package: 'reshape'\n",
      "\n",
      "The following object is masked from 'package:IRanges':\n",
      "\n",
      "    expand\n",
      "\n",
      "The following object is masked from 'package:S4Vectors':\n",
      "\n",
      "    rename\n",
      "\n",
      "Loading required package: XVector\n",
      "Loading required package: Biostrings\n",
      "Loading required package: GenomicFeatures\n",
      "\n",
      "Attaching package: 'VariantAnnotation'\n",
      "\n",
      "The following object is masked from 'package:base':\n",
      "\n",
      "    tabulate\n",
      "\n",
      "See system.file(\"LICENSE\", package=\"MotifDb\") for use restrictions.\n",
      "\n",
      "Attaching package: 'MotifDb'\n",
      "\n",
      "The following object is masked from 'package:AnnotationHub':\n",
      "\n",
      "    query\n",
      "\n",
      "Loading required package: grImport\n",
      "Loading required package: grid\n",
      "Loading required package: XML\n",
      "Loading required package: MotIV\n",
      "Warning message:\n",
      ": replacing previous import by 'graphics::plot' when loading 'seqLogo'No methods found in \"IRanges\" for requests: sapply\n",
      "\n",
      "Attaching package: 'MotIV'\n",
      "\n",
      "The following object is masked from 'package:stats':\n",
      "\n",
      "    filter\n",
      "\n",
      "Loading required package: ade4\n",
      "\n",
      "Attaching package: 'ade4'\n",
      "\n",
      "The following object is masked from 'package:rtracklayer':\n",
      "\n",
      "    score\n",
      "\n",
      "The following object is masked from 'package:Biostrings':\n",
      "\n",
      "    score\n",
      "\n",
      "The following object is masked from 'package:GenomicRanges':\n",
      "\n",
      "    score\n",
      "\n",
      "The following object is masked from 'package:IRanges':\n",
      "\n",
      "    score\n",
      "\n",
      "\n",
      "Attaching package: 'seqLogo'\n",
      "\n",
      "The following object is masked from 'package:MotIV':\n",
      "\n",
      "    makePWM\n",
      "\n",
      "\n",
      "Attaching package: 'tidyr'\n",
      "\n",
      "The following object is masked from 'package:VariantAnnotation':\n",
      "\n",
      "    expand\n",
      "\n",
      "The following object is masked from 'package:reshape':\n",
      "\n",
      "    expand\n",
      "\n",
      "The following object is masked from 'package:IRanges':\n",
      "\n",
      "    expand\n",
      "\n",
      "\n",
      "Attaching package: 'plyr'\n",
      "\n",
      "The following object is masked from 'package:XVector':\n",
      "\n",
      "    compact\n",
      "\n",
      "The following objects are masked from 'package:reshape':\n",
      "\n",
      "    rename, round_any\n",
      "\n",
      "The following object is masked from 'package:IRanges':\n",
      "\n",
      "    desc\n",
      "\n",
      "The following object is masked from 'package:S4Vectors':\n",
      "\n",
      "    rename\n",
      "\n",
      "\n",
      "Attaching package: 'dplyr'\n",
      "\n",
      "The following objects are masked from 'package:plyr':\n",
      "\n",
      "    arrange, count, desc, failwith, id, mutate, rename, summarise,\n",
      "    summarize\n",
      "\n",
      "The following object is masked from 'package:MotIV':\n",
      "\n",
      "    filter\n",
      "\n",
      "The following object is masked from 'package:MotifDb':\n",
      "\n",
      "    query\n",
      "\n",
      "The following object is masked from 'package:VariantAnnotation':\n",
      "\n",
      "    select\n",
      "\n",
      "The following objects are masked from 'package:Biostrings':\n",
      "\n",
      "    collapse, intersect, setdiff, setequal, union\n",
      "\n",
      "The following object is masked from 'package:XVector':\n",
      "\n",
      "    slice\n",
      "\n",
      "The following object is masked from 'package:reshape':\n",
      "\n",
      "    rename\n",
      "\n",
      "The following objects are masked from 'package:GenomicRanges':\n",
      "\n",
      "    intersect, setdiff, union\n",
      "\n",
      "The following objects are masked from 'package:data.table':\n",
      "\n",
      "    between, last\n",
      "\n",
      "The following object is masked from 'package:AnnotationDbi':\n",
      "\n",
      "    select\n",
      "\n",
      "The following object is masked from 'package:GenomeInfoDb':\n",
      "\n",
      "    intersect\n",
      "\n",
      "The following object is masked from 'package:Biobase':\n",
      "\n",
      "    combine\n",
      "\n",
      "The following object is masked from 'package:biomaRt':\n",
      "\n",
      "    select\n",
      "\n",
      "The following object is masked from 'package:AnnotationHub':\n",
      "\n",
      "    query\n",
      "\n",
      "The following objects are masked from 'package:IRanges':\n",
      "\n",
      "    collapse, desc, intersect, setdiff, slice, union\n",
      "\n",
      "The following object is masked from 'package:S4Vectors':\n",
      "\n",
      "    rename\n",
      "\n",
      "The following objects are masked from 'package:BiocGenerics':\n",
      "\n",
      "    combine, intersect, setdiff, union\n",
      "\n",
      "The following objects are masked from 'package:stats':\n",
      "\n",
      "    filter, lag\n",
      "\n",
      "The following objects are masked from 'package:base':\n",
      "\n",
      "    intersect, setdiff, setequal, union\n",
      "\n",
      "\n",
      "Attaching package: 'magrittr'\n",
      "\n",
      "The following object is masked from 'package:tidyr':\n",
      "\n",
      "    extract\n",
      "\n"
     ]
    }
   ],
   "source": [
    "source('c:/ravip/beataml/r/library.R')"
   ]
  },
  {
   "cell_type": "code",
   "execution_count": 5,
   "metadata": {
    "collapsed": false
   },
   "outputs": [],
   "source": [
    "# donor mutations in 505 samples\n",
    "dna <- read.table('d:/sequence/pancan/tcga505/mutations.tsv.gz', sep='\\t', header=T, stringsAsFactors=T) %>%\n",
    "  makeGRangesFromDataFrame(keep.extra.columns = T, start.field = 'pos', end.field = 'pos')\n",
    "seqlevelsStyle(dna) <- 'UCSC'"
   ]
  },
  {
   "cell_type": "code",
   "execution_count": 23,
   "metadata": {
    "collapsed": false
   },
   "outputs": [
    {
     "ename": "ERROR",
     "evalue": "Error in isTRUEorFALSE(ignore.strand): object 'dna_rnd' not found\n",
     "output_type": "error",
     "traceback": [
      "Error in isTRUEorFALSE(ignore.strand): object 'dna_rnd' not found\n"
     ]
    },
    {
     "ename": "ERROR",
     "evalue": "Error in seqlevelsStyle(dna_rnd) <- \"UCSC\": object 'dna_rnd' not found\n",
     "output_type": "error",
     "traceback": [
      "Error in seqlevelsStyle(dna_rnd) <- \"UCSC\": object 'dna_rnd' not found\n"
     ]
    }
   ],
   "source": [
    "# randomized control mutations\n",
    "dna_rnd <- read.table('d:/sequence/pancan/tcga505/randomised_TCGA505_toshare.txt.gz', header=F, skip=1,\n",
    "        col.names=c('barcode', 'cancer', 'chr', 'pos', 'ref_allele', 'var_allele')) %>%\n",
    "    makeGRangesFromDataFrame(dna_rnd, keep.extra.columns = T, start.field = 'pos', end.field = 'pos')\n",
    "seqlevelsStyle(dna_rnd) <- 'UCSC'"
   ]
  },
  {
   "cell_type": "code",
   "execution_count": 24,
   "metadata": {
    "collapsed": false
   },
   "outputs": [
    {
     "ename": "ERROR",
     "evalue": "Error in eval(expr, envir, enclos): object 'dna_rnd' not found\n",
     "output_type": "error",
     "traceback": [
      "Error in eval(expr, envir, enclos): object 'dna_rnd' not found\n"
     ]
    }
   ],
   "source": [
    "# merge into single dataset\n",
    "barcodes <- unique(dna$barcode)\n",
    "\n",
    "dna_all <- dna_rnd %>% as.data.frame %>% mutate(var_freq=NA, varscan_p=NA, rnd=T) %>%\n",
    "    rbind(dna %>% as.data.frame %>% mutate(rnd=F)) %>%\n",
    "    makeGRangesFromDataFrame(keep.extra.columns=T)"
   ]
  },
  {
   "cell_type": "code",
   "execution_count": 7,
   "metadata": {
    "collapsed": false
   },
   "outputs": [],
   "source": [
    "df <- read.table(\"c:/ravip/encode/wgEncodeRegTfbsClusteredV3.bed.gz\",sep=\"\\t\") %>%\n",
    "    rename(chr=V1, start=V2, end=V3, gene=V4)\n",
    "tfbs <- makeGRangesFromDataFrame(df, ignore.strand = T, keep.extra.columns = T)"
   ]
  },
  {
   "cell_type": "code",
   "execution_count": 14,
   "metadata": {
    "collapsed": false
   },
   "outputs": [],
   "source": [
    "dna_tfbs <- match_regions(dna %>% head(10000), tfbs %>% head(10000))"
   ]
  },
  {
   "cell_type": "code",
   "execution_count": 19,
   "metadata": {
    "collapsed": false
   },
   "outputs": [],
   "source": [
    "motifs <- levels(mcols(tfbs)$gene) %>% sapply(function (tf) MotifDb::query(MotifDb, tf)) %>%\n",
    "  sapply(. %>% subset(organism=='Hsapiens'))\n",
    "motifs <- motifs[sapply(motifs, length) > 0] %>% sapply(. %>% .[[1]])"
   ]
  },
  {
   "cell_type": "code",
   "execution_count": 21,
   "metadata": {
    "collapsed": false
   },
   "outputs": [],
   "source": [
    "he <- list.files('c:/ravip/rstuff/regmut/data/he', '*.csv', full.names=T) %>% lapply(function (f)\n",
    "        read.table(f, skip=1,header=T,quote='\"',sep=',') %>%\n",
    "            rename(seqnames=Chr, start=Start, end=End, tss.seqnames=Chr.1, tss.start=TSS, tss.strand=Strand, promoter=ID) %>%\n",
    "            mutate(cellline=strsplit(f, '\\\\.')[[1]][1], enhancer=paste(seqnames, ':', start, '-', end, sep=''), promoter.loc=paste(tss.seqnames, tss.start, sep=':'))) %>%\n",
    "    Reduce(rbind, .) %>%\n",
    "    makeGRangesFromDataFrame(keep.extra.columns=T)\n",
    "he$enh_width <- width(he)"
   ]
  },
  {
   "cell_type": "code",
   "execution_count": null,
   "metadata": {
    "collapsed": true
   },
   "outputs": [],
   "source": []
  }
 ],
 "metadata": {
  "kernelspec": {
   "display_name": "R",
   "language": "R",
   "name": "ir"
  },
  "language_info": {
   "codemirror_mode": "r",
   "file_extension": ".r",
   "mimetype": "text/x-r-source",
   "name": "R",
   "pygments_lexer": "r",
   "version": "3.1.3"
  }
 },
 "nbformat": 4,
 "nbformat_minor": 0
}
